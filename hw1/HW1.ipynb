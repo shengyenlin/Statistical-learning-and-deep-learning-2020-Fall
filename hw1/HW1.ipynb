{
 "cells": [
  {
   "cell_type": "markdown",
   "metadata": {},
   "source": [
    "### 統計學習與深度學習 (Fall, 2020)\n",
    "### Homework 1\n",
    "### B06702064 會計四 林聖硯"
   ]
  },
  {
   "cell_type": "markdown",
   "metadata": {},
   "source": [
    "### 第一題 [myknn_regressor]"
   ]
  },
  {
   "cell_type": "markdown",
   "metadata": {},
   "source": [
    "#### Q1.1"
   ]
  },
  {
   "cell_type": "code",
   "execution_count": 54,
   "metadata": {},
   "outputs": [],
   "source": [
    "import pickle\n",
    "from sklearn import preprocessing\n",
    "import numpy as np\n",
    "\n",
    "#Load data\n",
    "with open('msd_data1.pickle', 'rb') as fh1:\n",
    "    msd_data = pickle.load(fh1)\n",
    "\n",
    "doscaling = 1\n",
    "\n",
    "if (doscaling == 1):\n",
    "    xscaler = preprocessing.StandardScaler().fit(msd_data['X_train'])\n",
    "    #standardize feature values\n",
    "    X_train = xscaler.transform(msd_data['X_train'])\n",
    "    X_test = xscaler.transform(msd_data['X_test'])\n",
    "else:\n",
    "    X_train = msd_data['X_train']\n",
    "    X_test = msd_data['X_test']\n",
    "\n",
    "Y_train = msd_data['Y_train']\n",
    "Y_test = msd_data['Y_test']"
   ]
  },
  {
   "cell_type": "code",
   "execution_count": 55,
   "metadata": {},
   "outputs": [],
   "source": [
    "class myknn_regressor():\n",
    "    def __init__(self, n_neighbors = 10, mean_type = \"equal_weight\"):\n",
    "\n",
    "        self.n_neighbors = n_neighbors\n",
    "        self.mean_type = mean_type\n",
    "        \n",
    "    def fit(self, x_train, y_train):\n",
    "        \n",
    "        self.x_train = x_train\n",
    "        self.y_train = y_train\n",
    " \n",
    "    def predict(self, x_test):\n",
    "\n",
    "        #l2-distance, choose nearest neighbors\n",
    "        preds = []\n",
    "        for x in x_test:\n",
    "            dists = self.l2_distance(x)\n",
    "            #回傳從小到大的index\n",
    "            sorted_idx = np.argsort(dists)\n",
    "            knearest_labels = self.y_train[sorted_idx[:self.n_neighbors]]\n",
    "            \n",
    "            #remove outliers if k >= 10\n",
    "            if self.mean_type == \"remove_outliers\" and self.n_neighbors >=10:\n",
    "                Q1 = np.quantile(knearest_labels, 0.25)\n",
    "                Q3 = np.quantile(knearest_labels, 0.75)\n",
    "                IQR = Q3 - Q1\n",
    "                knearest_labels = knearest_labels[(knearest_labels <= Q3 + 1.5 * IQR) & (knearest_labels >= Q1 - 1.5 * IQR)] \n",
    "            \n",
    "            #compute means and round it to second decimal\n",
    "            pred = np.mean(knearest_labels)           \n",
    "            preds.append(pred)\n",
    "            \n",
    "        return np.array(preds)\n",
    "    \n",
    "    def l2_distance(self, x):\n",
    "        return np.sum(np.square(self.x_train-x), axis=1)"
   ]
  },
  {
   "cell_type": "markdown",
   "metadata": {},
   "source": [
    "#### Q1.2"
   ]
  },
  {
   "cell_type": "code",
   "execution_count": 21,
   "metadata": {},
   "outputs": [],
   "source": [
    "myknn = myknn_regressor(20, \"equal_weight\")\n",
    "myknn.fit(X_train, Y_train)\n",
    "Y_pred = myknn.predict(X_test)"
   ]
  },
  {
   "cell_type": "code",
   "execution_count": 22,
   "metadata": {},
   "outputs": [
    {
     "name": "stdout",
     "output_type": "stream",
     "text": [
      "RMSE =  10.25126451549596\n",
      "First 20 predictions in the test data are [1993.35 1993.8  2000.65 1991.5  1992.8  1998.5  1988.1  1991.65 2002.25\n",
      " 2003.   2000.5  1998.65 1995.55 1997.2  1995.05 1997.4  1992.15 2000.45\n",
      " 2003.2  1995.75]\n"
     ]
    }
   ],
   "source": [
    "RMSE = (np.sum(np.square(Y_pred - Y_test)) / len(Y_pred)) ** (1/2)\n",
    "print(\"RMSE = \", RMSE)\n",
    "print(\"First 20 predictions in the test data are\", Y_pred[:20])"
   ]
  },
  {
   "cell_type": "markdown",
   "metadata": {},
   "source": [
    "#### Q1.3"
   ]
  },
  {
   "cell_type": "code",
   "execution_count": 23,
   "metadata": {},
   "outputs": [],
   "source": [
    "myknn = myknn_regressor(20, \"remove_outliers\")\n",
    "myknn.fit(X_train, Y_train)\n",
    "Y_pred = myknn.predict(X_test)"
   ]
  },
  {
   "cell_type": "code",
   "execution_count": 24,
   "metadata": {},
   "outputs": [
    {
     "name": "stdout",
     "output_type": "stream",
     "text": [
      "RMSE =  10.212572466080376\n",
      "First 20 predictions in the test data are [1993.35       1993.8        2000.65       1992.73684211 1992.8\n",
      " 2000.         1988.1        1991.65       2002.25       2003.94736842\n",
      " 2000.5        2000.94444444 1995.55       1997.2        1998.61111111\n",
      " 1997.4        1992.15       2003.83333333 2003.2        1995.75      ]\n"
     ]
    }
   ],
   "source": [
    "RMSE = (np.sum(np.square(Y_pred - Y_test)) / len(Y_pred)) ** (1/2)\n",
    "print(\"RMSE = \", RMSE)\n",
    "print(\"First 20 predictions in the test data are\", Y_pred[:20])"
   ]
  },
  {
   "cell_type": "markdown",
   "metadata": {},
   "source": [
    "### 第二題 [Tuning the Hyper-parameter]"
   ]
  },
  {
   "cell_type": "markdown",
   "metadata": {},
   "source": [
    "#### Data Preprocessing"
   ]
  },
  {
   "cell_type": "code",
   "execution_count": 56,
   "metadata": {},
   "outputs": [],
   "source": [
    "import pickle\n",
    "from sklearn import preprocessing\n",
    "import numpy as np\n",
    "\n",
    "#Load data\n",
    "with open('msd_data1.pickle', 'rb') as fh1:\n",
    "    msd_data = pickle.load(fh1)\n",
    "\n",
    "if (doscaling == 1):\n",
    "    xscaler = preprocessing.StandardScaler().fit(msd_data['X_train'])\n",
    "    #standardize feature values\n",
    "    X_train_scaling = xscaler.transform(msd_data['X_train'])\n",
    "    X_test_scaling = xscaler.transform(msd_data['X_test'])\n",
    "else:\n",
    "    X_train_no_scaling = msd_data['X_train']\n",
    "    X_test_no_scaling = msd_data['X_test']\n",
    "\n",
    "Y_train = msd_data['Y_train']\n",
    "Y_test = msd_data['Y_test']\n",
    "\n",
    "#scaling data\n",
    "doscaling = 1\n",
    "\n",
    "#no scaling data\n",
    "doscaling = 0\n",
    "\n",
    "#k\n",
    "n_neighbors = [1, 2, 3, 4, 5, 10, 15, 20, 30, 35, 40, 45, 50, 55, 60, 80, 100, 120, 140, 160, 180, 200]"
   ]
  },
  {
   "cell_type": "markdown",
   "metadata": {},
   "source": [
    "#### Q2.1 (scaling + KNN)"
   ]
  },
  {
   "cell_type": "code",
   "execution_count": 44,
   "metadata": {},
   "outputs": [],
   "source": [
    "from sklearn.neighbors import KNeighborsRegressor\n",
    "from matplotlib import pyplot as plt"
   ]
  },
  {
   "cell_type": "code",
   "execution_count": 45,
   "metadata": {},
   "outputs": [],
   "source": [
    "RMSEs_1 = [] \n",
    "for neighbors in n_neighbors:\n",
    "    neigh = KNeighborsRegressor(n_neighbors = neighbors)\n",
    "    neigh.fit(X_train_scaling, Y_train)\n",
    "    Y_pred = neigh.predict(X_test_scaling)\n",
    "    RMSE = (np.sum(np.square(Y_pred - Y_test)) / len(Y_pred)) ** (1/2)\n",
    "    RMSEs_1.append(RMSE)"
   ]
  },
  {
   "cell_type": "code",
   "execution_count": 46,
   "metadata": {},
   "outputs": [
    {
     "data": {
      "image/png": "[encoded data removed]",
      "text/plain": [
       "<Figure size 432x288 with 1 Axes>"
      ]
     },
     "metadata": {
      "needs_background": "light"
     },
     "output_type": "display_data"
    },
    {
     "name": "stdout",
     "output_type": "stream",
     "text": [
      "[13.911074724837043, 12.068170946750795, 11.389120864846157, 11.1123354880961, 10.894692897614565, 10.425998912973919, 10.318171959828572, 10.25126451549596, 10.215977156359507, 10.205243203546763, 10.204332770527754, 10.207243171822855, 10.206033712139762, 10.208862384446808, 10.21700262724764, 10.231954198429056, 10.247295947386965, 10.264908458982783, 10.287098382403647, 10.317788599090449, 10.330995620176944, 10.351940397014143]\n"
     ]
    }
   ],
   "source": [
    "plt.plot(n_neighbors, RMSEs_1)\n",
    "plt.xlabel(\"k\")\n",
    "plt.ylabel(\"RMSE\")\n",
    "plt.show()\n",
    "print(RMSEs_1)"
   ]
  },
  {
   "cell_type": "markdown",
   "metadata": {},
   "source": [
    "#### Q2.2 (no scaling + KNN)"
   ]
  },
  {
   "cell_type": "code",
   "execution_count": 32,
   "metadata": {},
   "outputs": [],
   "source": [
    "RMSEs_2 = [] \n",
    "for neighbors in n_neighbors:\n",
    "    neigh = KNeighborsRegressor(n_neighbors = neighbors)\n",
    "    neigh.fit(X_train_no_scaling, Y_train)\n",
    "    Y_pred = neigh.predict(X_test_no_scaling)\n",
    "    RMSE = (np.sum(np.square(Y_pred - Y_test)) / len(Y_pred)) ** (1/2)\n",
    "    RMSEs_2.append(RMSE)"
   ]
  },
  {
   "cell_type": "code",
   "execution_count": 33,
   "metadata": {},
   "outputs": [
    {
     "data": {
      "image/png": "[encoded data removed]",
      "text/plain": [
       "<Figure size 432x288 with 1 Axes>"
      ]
     },
     "metadata": {
      "needs_background": "light"
     },
     "output_type": "display_data"
    },
    {
     "name": "stdout",
     "output_type": "stream",
     "text": [
      "[14.923638966418345, 12.777499755429464, 12.075674967716129, 11.767805657810635, 11.466392632384432, 11.07746090040493, 10.888979137947995, 10.797788546734928, 10.75026561256701, 10.717738719772289, 10.714437504678756, 10.698494013475852, 10.69110105960404, 10.682608734124413, 10.672535729098724, 10.662907517124493, 10.67701950452466, 10.683139638996407, 10.687017556442052, 10.691630026202155, 10.69071978380711, 10.698853374700175]\n"
     ]
    }
   ],
   "source": [
    "plt.plot(n_neighbors, RMSEs_2)\n",
    "plt.xlabel(\"k\")\n",
    "plt.ylabel(\"RMSE\")\n",
    "plt.show()\n",
    "print(RMSEs_2)"
   ]
  },
  {
   "cell_type": "markdown",
   "metadata": {},
   "source": [
    "#### Q2.3 (scaling + myknn_regressor)"
   ]
  },
  {
   "cell_type": "code",
   "execution_count": 57,
   "metadata": {},
   "outputs": [],
   "source": [
    "RMSEs_3 = []\n",
    "for neighbors in n_neighbors:\n",
    "    myknn = myknn_regressor(neighbors, \"remove_outliers\")\n",
    "    myknn.fit(X_train_scaling, Y_train)\n",
    "    Y_pred = myknn.predict(X_test_scaling)\n",
    "    RMSE = (np.sum(np.square(Y_pred - Y_test)) / len(Y_pred)) ** (1/2)\n",
    "    RMSEs_3.append(RMSE)"
   ]
  },
  {
   "cell_type": "code",
   "execution_count": 58,
   "metadata": {},
   "outputs": [
    {
     "data": {
      "image/png": "[encoded data removed]",
      "text/plain": [
       "<Figure size 432x288 with 1 Axes>"
      ]
     },
     "metadata": {
      "needs_background": "light"
     },
     "output_type": "display_data"
    },
    {
     "name": "stdout",
     "output_type": "stream",
     "text": [
      "[13.911074724837043, 12.068170946750795, 11.389120864846157, 11.1123354880961, 10.894692897614565, 10.468549209697088, 10.293424167991525, 10.212572466080376, 10.132105705172414, 10.109608004792985, 10.093231539122922, 10.080018891479627, 10.08078333324933, 10.059767600751963, 10.073857809066583, 10.063683549276588, 10.064917276737452, 10.067237203620246, 10.090646192390137, 10.115316675702928, 10.124987056716318, 10.146220720227745]\n"
     ]
    }
   ],
   "source": [
    "plt.plot(n_neighbors, RMSEs_3)\n",
    "plt.xlabel(\"k\")\n",
    "plt.ylabel(\"RMSE\")\n",
    "plt.show()\n",
    "print(RMSEs_3)"
   ]
  },
  {
   "cell_type": "code",
   "execution_count": 60,
   "metadata": {},
   "outputs": [
    {
     "data": {
      "image/png": "[encoded data removed]",
      "text/plain": [
       "<Figure size 432x288 with 1 Axes>"
      ]
     },
     "metadata": {
      "needs_background": "light"
     },
     "output_type": "display_data"
    }
   ],
   "source": [
    "plt.plot(n_neighbors, RMSEs_1)\n",
    "plt.plot(n_neighbors, RMSEs_2)\n",
    "plt.plot(n_neighbors, RMSEs_3)\n",
    "plt.legend(['KNN (scaling)', 'KNN (no scaling)', 'myKNN (scaling)'], loc='upper left')\n",
    "plt.xlabel(\"k\")\n",
    "plt.ylabel(\"RMSE\")\n",
    "plt.show()"
   ]
  },
  {
   "cell_type": "markdown",
   "metadata": {},
   "source": [
    "#### Discussion\n",
    "從上述的結果可以看出，在data有scaling的情況下，在調整參數的時候比較容易找到良好的k，但三個圖形呈現出來都不是一個良好的U-shape。從第二個情況可以看出k必須要重新挑，可能要在往更大的k找RMSE，因為K在15之後的RSME幾乎都是呈現一個平緩的情況。另外，比較第一和第三種情況，可以發現remove outliers在本題並沒有使結果預測得更準，K>20的部分RMSE和第一種情況差不多。"
   ]
  },
  {
   "cell_type": "markdown",
   "metadata": {},
   "source": [
    "### 第三題 [Lasso Regression]"
   ]
  },
  {
   "cell_type": "markdown",
   "metadata": {},
   "source": [
    "#### Q3.1"
   ]
  },
  {
   "cell_type": "markdown",
   "metadata": {},
   "source": [
    "$$\n",
    "\\displaystyle L = \\frac{1}{2n} \\sum_{i=1}^n (y_i - \\mathbf{w}^T \\mathbf{x}_i - w_0)^2 + \\lambda [\\sum_{j=1}^{M} |w_j|]\n",
    "$$\n",
    "\n",
    "$\\text{令} \\displaystyle \\mathbf{w} = [w_0, w_1, w_2, ..., w_M] ,   \\mathbf{x}_i = [1, x_{i, 1}, x_{i, 2}, ..., x_{i, M}] \\text{，並在此假設常數項的係數會被regularized (若不放入，則懲罰項由}j=1\\text{開始})$\n",
    "$$\n",
    "\\displaystyle L = \\frac{1}{2n} \\sum_{i=1}^{n} (y_i - \\mathbf{w^T} \\mathbf{x_i})^2 + \\lambda [\\sum_{j=0}^{M} |w_j|]\n",
    "$$\n",
    "\n",
    "$$\n",
    "\\displaystyle  \\frac{\\partial L}{\\partial w_j} = \\frac{1}{n} \\sum_{i = 1}^{n} (y_i - \\mathbf{w^T} \\mathbf{x_i})(x_{i, j}) + \\lambda \\times sgn (w_j) \n",
    "$$\n",
    "\n",
    "\n",
    "$\\text{依照老師的notation，令}\n",
    "\\displaystyle \\mathbf{w_{-j}} = [w_0, w_1, \\dots, w_{j-1}, w_{j+1}, ..., w_M], (\\mathbf{x}_i)_{-j} = [1, x_{i, 1}, \\dots , x_{i, j-1}, x_{i, j+1}, \\dots, x_{i, M}]$\n",
    "\n",
    "並且以$\\mathbf{\\tilde w}$為起始值\n",
    "$$\n",
    "\\begin{aligned}\n",
    "\\displaystyle \\frac{\\partial L}{\\partial w_j} &= \\frac{1}{n}  [\\sum_{i=1}^{n} (y_i - (\\mathbf{\\tilde w_{-j}})^T(\\mathbf{x}_i)_{-j}- w_j x_{i, j}) (-x_{i, j})] + \\lambda \\times sgn (w_j)\n",
    "\\\\\n",
    "\\displaystyle &= \\frac{1}{n}  [\\sum_{i=1}^{n} (y_i - (\\mathbf{\\tilde w_{-j}})^T (\\mathbf{x}_i)_{-j}(-x_{i, j})) + \\frac{1}{n} w_j \\sum_{i=1}^{n} x_{i, j}^2] + \\lambda \\times sgn (w_j) \n",
    "\\\\\n",
    "&= 0\n",
    "\\end{aligned}\n",
    "$$\n",
    "\n",
    "令$\\displaystyle \\rho_j = \\sum_{i = 1}^{n} x_{i, j} (y_i -  \\mathbf{\\tilde w_{-j}}^T (\\mathbf{\\tilde x}_i)_{-j}), z_j = \\sum_{i=1}^{n} x_{i, j}^2$\n",
    "\n",
    "$$\n",
    "\\begin{aligned}\n",
    "\\displaystyle \\frac{\\partial L}{\\partial w_j} &= -\\frac{1}{n} \\rho_j + \\frac{1}{n} w_j z_j+ \\lambda sgn \\times (w_j) = 0\n",
    "\\\\\n",
    "\\displaystyle w_j &= \\frac{\\rho_j - n \\times \\lambda \\times sgn(w_j)}{z_j}\n",
    "\\\\\n",
    "\\displaystyle sgn(w_j)  &= \\begin{cases}\n",
    "1, \\text{if  } w_j > 0 \\text{  } (\\rho_j > n \\lambda)\n",
    "\\\\\n",
    "0, \\text{if  } w_j = 0 \\text{  } (-n \\lambda < \\rho_j < n \\lambda)\n",
    "\\\\\n",
    "-1, \\text{if  } w_j < 0 \\text{  } ( \\rho_j < - n \\lambda)\n",
    "\\end{cases} \n",
    "\\displaystyle  \\text{                  for  } j = 0, \\dots, M\n",
    "\\end{aligned}\n",
    "$$\n",
    "\n",
    "\n",
    "\n",
    "若無放入常數項，則\n",
    "\n",
    "$$\\displaystyle w_0 = \\frac{\\rho_0}{z_0}$$\n",
    "又\n",
    "$\n",
    "\\displaystyle x_{i,0} = 1 \\text{  for  } i = 1, \\dots, N, z_0 = \\sum_{i=1}^{n} x_{i, 0}^2 = n $\n",
    "$$\n",
    "\\begin{aligned}\n",
    "\\displaystyle \\Rightarrow w_0 &= \\frac{1}{n} \\sum_{i = 1}^{n} (y_i -  \\mathbf{\\tilde w_{-0}}^T (\\mathbf{\\tilde x}_i)_{-0})\n",
    "\\\\\n",
    "w_j &= \\frac{\\rho_j - n \\times \\lambda \\times sgn(w_j)}{z_j} \n",
    "\\\\\n",
    "sgn(w_j)  &= \\begin{cases}\n",
    "1, \\text{if  } w_j > 0 \\text{  } (\\rho_j > n \\lambda)\n",
    "\\\\\n",
    "0, \\text{if  } w_j = 0 \\text{  } (-n \\lambda < \\rho_j < n \\lambda)\n",
    "\\\\\n",
    "-1, \\text{if  } w_j < 0 \\text{  } ( \\rho_j < - n \\lambda) \n",
    "\\end{cases}\n",
    "\\text{                  for  } j = 1, \\dots, M\n",
    "\\end{aligned}\n",
    "$$"
   ]
  },
  {
   "cell_type": "markdown",
   "metadata": {},
   "source": [
    "#### Q3.2"
   ]
  },
  {
   "cell_type": "code",
   "execution_count": 58,
   "metadata": {},
   "outputs": [],
   "source": [
    "import numpy as np"
   ]
  },
  {
   "cell_type": "code",
   "execution_count": 84,
   "metadata": {},
   "outputs": [],
   "source": [
    "class mylasso():\n",
    "    def __init__(self, lamcoef = 0.1, max_iter=1000, tol=1e-6, const_regu = False):\n",
    "        \"\"\"lamcoef: the regularization coefficient\n",
    "           max_iter: maximum number of iteration for model training\n",
    "           tol: tolerance for the stopping criteria for model training\n",
    "           const_regu: whether the constant term should be regularized, default to False\n",
    "           \"\"\"\n",
    "        ### Add your code here ###\n",
    "        self.lamcoef = lamcoef\n",
    "        self.max_iter = max_iter\n",
    "        self.tol = tol\n",
    "        self.const_regu = const_regu\n",
    "        self.weights = None\n",
    "        self.training_data = None\n",
    "        self.loss = None\n",
    "        self.RMSE = None\n",
    "        self.MAE = None\n",
    "        self.nonzero_weight = None\n",
    "    \n",
    "    #Create a function to get the output\n",
    "    def predicted_values(self, X, w):\n",
    "        '''\n",
    "        X will be n x (d+1)\n",
    "        w will be (d+1) x 1\n",
    "        '''\n",
    "        predictions = np.matmul(X,w) # n x 1\n",
    "        return(predictions)\n",
    "    \n",
    "    def rho_compute(self, y, X, w, j):\n",
    "        '''\n",
    "        y is the response variable\n",
    "        X is the predictor variables matrix\n",
    "        w is the weight vector\n",
    "        j is the feature selector\n",
    "        '''\n",
    "        X_k = np.delete(X, j, 1) #Remove the j variable i.e. j column\n",
    "        w_k = np.delete(w, j) #Remove the weight j\n",
    "        predict_k = self.predicted_values(X_k, w_k)\n",
    "        residual = y - predict_k\n",
    "        rho_j = np.sum(X[:,j]*residual)\n",
    "        return(rho_j)\n",
    "    \n",
    "    #computation for z_j\n",
    "    def z_compute(self, X):\n",
    "        z_vector = np.sum(X*X, axis = 0) #Compute sum for each column\n",
    "        return(z_vector)\n",
    "    \n",
    "    def ridge_regression(self, x_train, y_train):\n",
    "        l2_coef = 0.1\n",
    "        #close-form solution for ridge regression\n",
    "        w = np.dot(np.linalg.inv(np.dot(x_train.T, x_train) + l2_coef * np.eye(x_train.shape[1])), np.dot(x_train.T, y_train))\n",
    "        return w \n",
    "    \n",
    "    def fit(self, x_train, y_train, winit = \"ridge\", keep_traindata = True, verbose = False):\n",
    "        \"\"\"Fit a Lasso model\n",
    "           x_train: a numpy matrix that contains training features\n",
    "           y_train: a numpy matrix that contains the label\n",
    "           winit: how weights are initialized, default to \"ridge\", ridge regression\n",
    "           keep_traindata: whether the object is going to keep training data after the training process completed\n",
    "           verbose: output a lot of message\"\"\"\n",
    "        ### Add your code here ###\n",
    "        \n",
    "        if keep_traindata == True:\n",
    "            self.training_data = x_train\n",
    "        \n",
    "        step_sizes = 100\n",
    "        iteration = 0\n",
    "        \n",
    "        #initial weights from ridge regression\n",
    "        \n",
    "        if winit == 'ridge':\n",
    "            w = self.ridge_regression(x_train, y_train)\n",
    "            \n",
    "        #compute z_j\n",
    "        z = self.z_compute(x_train)\n",
    "        \n",
    "        #break條件tol<L的改變幅度或遞迴次數超過max_iter\n",
    "        while(step_sizes >= self.tol and iteration < self.max_iter):\n",
    "            iteration += 1\n",
    "            old_weights = np.copy(w)\n",
    "            #compute old loss\n",
    "            if self.const_regu == False:\n",
    "                old_loss = (1/(2*len(y_train))) * np.sum(np.square(y_train - self.predicted_values(X_train, old_weights))) + self.lamcoef * (np.sum(np.abs(old_weights[1:])))\n",
    "                \n",
    "            else:\n",
    "                new_loss = (1/(2*len(y_train))) * np.sum(np.square(y_train - self.predicted_values(X_train, w))) + self.lamcoef * (np.sum(np.abs(w)))\n",
    "            for j in range(len(w)): #Take the number of features ie columns\n",
    "                rho_j = self.rho_compute(y_train, x_train, w, j)\n",
    "                if self.const_regu == False and j == 0:\n",
    "                    w[0] = rho_j/z[0]\n",
    "                elif rho_j < -self.lamcoef*len(y_train):\n",
    "                    w[j] = (rho_j + (self.lamcoef*len(y_train)))/z[j]\n",
    "                elif rho_j > -self.lamcoef*len(y_train) and rho_j < self.lamcoef*len(y_train):\n",
    "                    w[j] = 0\n",
    "                elif rho_j > self.lamcoef*len(y_train):\n",
    "                    w[j] = (rho_j - (self.lamcoef*len(y_train)))/z[j]\n",
    "                else:\n",
    "                    w[j] = np.NaN\n",
    "            \n",
    "            if self.const_regu == False:\n",
    "                new_loss = (1/(2*len(y_train))) * np.sum(np.square(y_train - self.predicted_values(X_train, w))) + self.lamcoef * (np.sum(np.abs(w[1:])))\n",
    "                \n",
    "            else:\n",
    "                new_loss = (1/(2*len(y_train))) * np.sum(np.square(y_train - self.predicted_values(X_train, w))) + self.lamcoef * (np.sum(np.abs(w)))\n",
    "     \n",
    "            #L的改變幅度\n",
    "            step_sizes = abs(new_loss - old_loss)\n",
    "\n",
    "            if verbose == True:\n",
    "                print(\"Iteration (start) : \",iteration)\n",
    "                print(\"\\nTraining loss\\n\", new_loss)\n",
    "                print(\"\\nOld Weights\\n\", old_weights)\n",
    "                print(\"\\nNew Weights\\n\",w)\n",
    "                print(\"\\nStep sizes\\n\",step_sizes)\n",
    "\n",
    "        self.weights = w \n",
    "        self.loss = new_loss\n",
    "        self.RMSE = (np.sum(np.square(y_train - self.predicted_values(x_train, w))) / len(y_train)) ** (1/2)\n",
    "        self.MAE =  np.sum(np.abs(y_train - self.predicted_values(x_train, w))) / len(y_train)\n",
    "        self.nonzero_weight = np.count_nonzero(w[1:])\n",
    "        \n",
    "    def predict(self, x_test):\n",
    "        \"\"\"Make prediction using trained model\"\"\"\n",
    "        ### Add your code here ###\n",
    "        y_pred = self.predicted_values(x_test, self.weights)\n",
    "        return y_pred"
   ]
  },
  {
   "cell_type": "markdown",
   "metadata": {},
   "source": [
    "#### Q3.3"
   ]
  },
  {
   "cell_type": "code",
   "execution_count": 85,
   "metadata": {},
   "outputs": [],
   "source": [
    "#load the dataset, and create normalized and raw features. \n",
    "import pickle\n",
    "from sklearn import preprocessing\n",
    "import numpy as np\n",
    "np.set_printoptions(suppress=True)\n",
    "\n",
    "#Load data\n",
    "with open('msd_data1.pickle', 'rb') as fh1:\n",
    "    msd_data = pickle.load(fh1)\n",
    "\n",
    "xscaler = preprocessing.StandardScaler().fit(msd_data['X_train'])\n",
    "#standardize feature values\n",
    "X_train_sd = xscaler.transform(msd_data['X_train'])\n",
    "X_test_sd = xscaler.transform(msd_data['X_test'])\n",
    "\n",
    "#outcome values\n",
    "Y_train = msd_data['Y_train']\n",
    "Y_test = msd_data['Y_test']"
   ]
  },
  {
   "cell_type": "code",
   "execution_count": 86,
   "metadata": {},
   "outputs": [],
   "source": [
    "X_train = np.column_stack((np.ones((X_train_sd.shape[0],1)),X_train_sd))\n",
    "X_test = np.column_stack((np.ones((X_test_sd.shape[0],1)),X_test_sd))"
   ]
  },
  {
   "cell_type": "code",
   "execution_count": 87,
   "metadata": {},
   "outputs": [],
   "source": [
    "mlo = mylasso(lamcoef = 0.1)\n",
    "mlo.fit(X_train, Y_train)"
   ]
  },
  {
   "cell_type": "code",
   "execution_count": 88,
   "metadata": {},
   "outputs": [
    {
     "name": "stdout",
     "output_type": "stream",
     "text": [
      "Training Loss : 49.88840410995362\n",
      "RMSE : 9.719499089084625\n",
      "MAE : 6.980898009625428\n",
      "coefficient of intercept : 1998.266\n",
      "number of nonzero weights: 59\n",
      "other coefficients \n",
      " [ 4.6518551  -2.45673153 -1.06195885  0.         -0.34275054 -2.94854329\n",
      "  0.         -0.39970268 -0.42653866  0.         -0.23498651 -0.39491058\n",
      "  0.50307719  0.         -0.34207893  0.61674589  0.15722753  0.43489925\n",
      "  0.43595375  1.12941661  0.40663481  0.          1.77743607  0.\n",
      " -0.16842728  0.07833529  0.66391172  0.01297938  0.15350723  0.\n",
      " -0.21762074 -0.22189107  0.         -0.0027548  -0.01707674 -0.2599464\n",
      "  0.          0.28969362  0.34893387  0.         -0.26112569 -0.14488702\n",
      " -0.00995271  0.03497723 -0.03984338  0.          0.00299383 -0.17804306\n",
      "  0.          0.06494382  0.27076506  0.          0.          0.\n",
      "  0.          0.         -0.63813223  0.23761428 -0.19016387  0.\n",
      " -0.18875525  0.         -0.13590668  0.0612754  -0.26619017  0.\n",
      "  0.          0.         -0.03099184  0.         -0.19276517  0.01221358\n",
      "  0.20735199  0.25118247  0.12313494  0.          0.         -0.52945662\n",
      "  0.          0.          0.17859187  0.02408561  0.25291058  0.19360205\n",
      "  0.37064854  0.          0.         -0.29169753  0.          0.        ]\n"
     ]
    }
   ],
   "source": [
    "print(\"Training Loss :\", mlo.loss)\n",
    "print(\"RMSE :\", mlo.RMSE)\n",
    "print(\"MAE :\", mlo.MAE)\n",
    "print(\"coefficient of intercept :\", mlo.weights[0])\n",
    "print(\"number of nonzero weights:\", mlo.nonzero_weight)\n",
    "print(\"other coefficients \\n\", mlo.weights[1:])"
   ]
  },
  {
   "cell_type": "markdown",
   "metadata": {},
   "source": [
    "#### Q3.4"
   ]
  },
  {
   "cell_type": "code",
   "execution_count": 89,
   "metadata": {},
   "outputs": [],
   "source": [
    "y_pred = mlo.predict(X_test)\n",
    "pred_RMSE = (np.sum(np.square(Y_test - y_pred)) / len(Y_test)) ** (1/2)\n",
    "pred_MAE =  np.sum(np.abs(Y_test - y_pred)) / len(Y_test)"
   ]
  },
  {
   "cell_type": "code",
   "execution_count": 90,
   "metadata": {},
   "outputs": [
    {
     "name": "stdout",
     "output_type": "stream",
     "text": [
      "first five predicted years : [1991.93191145 1999.07198637 2001.76293602 1991.30317029 1994.42657933]\n",
      "Test RMSE: 9.648414790970724\n",
      "Test MAE: 6.921385961496769\n"
     ]
    }
   ],
   "source": [
    "print(\"first five predicted years :\",y_pred[:5])\n",
    "print(\"Test RMSE:\", pred_RMSE)\n",
    "print(\"Test MAE:\", pred_MAE)"
   ]
  },
  {
   "cell_type": "markdown",
   "metadata": {},
   "source": [
    "#### Q3.5"
   ]
  },
  {
   "cell_type": "code",
   "execution_count": 110,
   "metadata": {},
   "outputs": [],
   "source": [
    "lambda_list = [0.0001, 0.0005, 0.001, 0.005, 0.01, 0.05, 0.1, 0.5, 1, 2]\n",
    "training_loss = []\n",
    "number_of_nonzero_weights = []\n",
    "average_weight_size = []\n",
    "training_RMSE = []\n",
    "test_RMSE = []\n",
    "for lambda_coef in lambda_list:\n",
    "    mlo = mylasso(lamcoef = lambda_coef)\n",
    "    mlo.fit(X_train, Y_train)\n",
    "    \n",
    "    #training loss\n",
    "    training_loss.append(mlo.loss)\n",
    "    \n",
    "    #number_of_nonzero_weights\n",
    "    number_of_nonzero_weights.append(mlo.nonzero_weight)\n",
    "    \n",
    "    #average_weight_size\n",
    "    average_weight_size.append(np.mean(np.abs(mlo.weights[1:])))\n",
    "    \n",
    "    #training RMSE\n",
    "    training_RMSE.append(mlo.RMSE)\n",
    "    \n",
    "    #testing RMSE\n",
    "    y_pred = mlo.predict(X_test)\n",
    "    test_RMSE.append((np.sum(np.square(Y_test - y_pred)) / len(Y_test)) ** (1/2))"
   ]
  },
  {
   "cell_type": "code",
   "execution_count": 111,
   "metadata": {},
   "outputs": [
    {
     "name": "stdout",
     "output_type": "stream",
     "text": [
      "                 training loss  number of nonzero weights  \\\n",
      "lambda = 0.0001      46.570461                         90   \n",
      "lambda = 0.0005      46.587378                         90   \n",
      "lambda = 0.001       46.608460                         90   \n",
      "lambda = 0.005       46.774656                         89   \n",
      "lambda = 0.01        46.976826                         87   \n",
      "lambda = 0.05        48.417390                         76   \n",
      "lambda = 0.1         49.888404                         59   \n",
      "lambda = 0.5         56.375688                         16   \n",
      "lambda = 1           59.889324                          4   \n",
      "lambda = 2           61.492131                          1   \n",
      "\n",
      "                 average weight size  training RMSE  testing RMSE  \n",
      "lambda = 0.0001             0.470577       9.650516      9.644354  \n",
      "lambda = 0.0005             0.469495       9.650518      9.644084  \n",
      "lambda = 0.001              0.467901       9.650528      9.643537  \n",
      "lambda = 0.005              0.455753       9.650862      9.640065  \n",
      "lambda = 0.01               0.442903       9.651758      9.636409  \n",
      "lambda = 0.05               0.363977       9.672589      9.626434  \n",
      "lambda = 0.1                0.294897       9.719499      9.648415  \n",
      "lambda = 0.5                0.120031      10.096958      9.999131  \n",
      "lambda = 1                  0.042175      10.591844     10.474621  \n",
      "lambda = 2                  0.004266      11.020374     10.902614  \n"
     ]
    }
   ],
   "source": [
    "from pandas.core.frame import DataFrame\n",
    "dict_result = {\"training loss\": training_loss, \"number of nonzero weights\": number_of_nonzero_weights, \"average weight size\": average_weight_size, \"training RMSE\":training_RMSE, \"testing RMSE\": test_RMSE}\n",
    "df_result = DataFrame(dict_result)\n",
    "df_result.index = ['lambda = 0.0001', 'lambda = 0.0005', 'lambda = 0.001', 'lambda = 0.005', 'lambda = 0.01', 'lambda = 0.05', 'lambda = 0.1', 'lambda = 0.5', 'lambda = 1', 'lambda = 2'] \n",
    "print(df_result)"
   ]
  },
  {
   "cell_type": "code",
   "execution_count": 112,
   "metadata": {},
   "outputs": [],
   "source": [
    "from matplotlib import pyplot as plt"
   ]
  },
  {
   "cell_type": "code",
   "execution_count": 119,
   "metadata": {},
   "outputs": [
    {
     "data": {
      "image/png": "[encoded data removed]",
      "text/plain": [
       "<Figure size 432x288 with 1 Axes>"
      ]
     },
     "metadata": {
      "needs_background": "light"
     },
     "output_type": "display_data"
    }
   ],
   "source": [
    "plt.plot(lambda_list, training_loss)\n",
    "plt.title(\"training loss\")\n",
    "plt.xlabel(\"lambda\")\n",
    "plt.ylabel(\"training loss\")\n",
    "plt.show()"
   ]
  },
  {
   "cell_type": "code",
   "execution_count": 120,
   "metadata": {},
   "outputs": [
    {
     "data": {
      "image/png": "[encoded data removed]",
      "text/plain": [
       "<Figure size 432x288 with 1 Axes>"
      ]
     },
     "metadata": {
      "needs_background": "light"
     },
     "output_type": "display_data"
    }
   ],
   "source": [
    "plt.plot(lambda_list, number_of_nonzero_weights)\n",
    "plt.title(\"number of nonzero weights\")\n",
    "plt.xlabel(\"lambda\")\n",
    "plt.ylabel(\"number of nonzero weights\")\n",
    "plt.show()"
   ]
  },
  {
   "cell_type": "code",
   "execution_count": 121,
   "metadata": {},
   "outputs": [
    {
     "data": {
      "image/png": "[encoded data removed]",
      "text/plain": [
       "<Figure size 432x288 with 1 Axes>"
      ]
     },
     "metadata": {
      "needs_background": "light"
     },
     "output_type": "display_data"
    }
   ],
   "source": [
    "plt.plot(lambda_list, average_weight_size)\n",
    "plt.title(\"average weight size\")\n",
    "plt.xlabel(\"lambda\")\n",
    "plt.ylabel(\"average weight size\")\n",
    "plt.show()"
   ]
  },
  {
   "cell_type": "code",
   "execution_count": 122,
   "metadata": {},
   "outputs": [
    {
     "data": {
      "image/png": "[encoded data removed]",
      "text/plain": [
       "<Figure size 432x288 with 1 Axes>"
      ]
     },
     "metadata": {
      "needs_background": "light"
     },
     "output_type": "display_data"
    }
   ],
   "source": [
    "plt.plot(lambda_list, training_RMSE)\n",
    "plt.title(\"training RMSE\")\n",
    "plt.xlabel(\"lambda\")\n",
    "plt.ylabel(\"training RMSE\")\n",
    "plt.show()"
   ]
  },
  {
   "cell_type": "code",
   "execution_count": 123,
   "metadata": {},
   "outputs": [
    {
     "data": {
      "image/png": "[encoded data removed]",
      "text/plain": [
       "<Figure size 432x288 with 1 Axes>"
      ]
     },
     "metadata": {
      "needs_background": "light"
     },
     "output_type": "display_data"
    }
   ],
   "source": [
    "plt.plot(lambda_list, test_RMSE)\n",
    "plt.title(\"test RMSE\")\n",
    "plt.xlabel(\"lambda\")\n",
    "plt.ylabel(\"test RMSE\")\n",
    "plt.show()"
   ]
  },
  {
   "cell_type": "markdown",
   "metadata": {},
   "source": [
    "#### Discussion"
   ]
  },
  {
   "cell_type": "markdown",
   "metadata": {},
   "source": [
    "可以發現當lambda上升時，各項loss和training的RMSE都會升高。\n",
    "這是因為當lamcoef上升，feature weight較容易被設成0，故模型較難fit真實數據，所以loss會上升。\n",
    "但在lambda在0到0.25的區間時，test RMSE呈現下降的狀態。"
   ]
  }
 ],
 "metadata": {
  "kernelspec": {
   "display_name": "Python 3",
   "language": "python",
   "name": "python3"
  },
  "language_info": {
   "codemirror_mode": {
    "name": "ipython",
    "version": 3
   },
   "file_extension": ".py",
   "mimetype": "text/x-python",
   "name": "python",
   "nbconvert_exporter": "python",
   "pygments_lexer": "ipython3",
   "version": "3.6.8"
  }
 },
 "nbformat": 4,
 "nbformat_minor": 4
}
